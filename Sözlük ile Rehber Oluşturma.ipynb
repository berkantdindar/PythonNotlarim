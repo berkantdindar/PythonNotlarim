{
 "cells": [
  {
   "cell_type": "code",
   "execution_count": null,
   "metadata": {},
   "outputs": [],
   "source": [
    "#Sözlük içinde sözlük tanımlıyoruz...\n",
    "sozluk={\"karakter1\":{\"ev\":\"Roma\",\"iş\":\"Barselona\",\"tel\":\"63738383737\"},\n",
    "        \"karakter2\":{\"ev\":\"Bakırköy\",\"iş\":\"Ruh ve Sinir Hastalıkları\",\"tel\":\"646736438743\"}\n",
    "        }"
   ]
  },
  {
   "cell_type": "code",
   "execution_count": null,
   "metadata": {},
   "outputs": [],
   "source": [
    "#Kullanıcıdan değişkenleri alıyoruz...\n",
    "isim=input(\"İsim: \")\n",
    "deger=input(\"Değer: \")"
   ]
  },
  {
   "cell_type": "code",
   "execution_count": null,
   "metadata": {},
   "outputs": [],
   "source": [
    "#Sözlük içinde değeri aratarak sonuç döndürüyoruz...\n",
    "if isim in sozluk.keys():\n",
    "    print(sozluk.get(isim).get(deger, \"Değer bulunamadı...\"))\n",
    "else:\n",
    "    print(\"Belirtilen isim bulunamadı..\")"
   ]
  }
 ],
 "metadata": {
  "kernelspec": {
   "display_name": "Python 3",
   "language": "python",
   "name": "python3"
  },
  "language_info": {
   "codemirror_mode": {
    "name": "ipython",
    "version": 3
   },
   "file_extension": ".py",
   "mimetype": "text/x-python",
   "name": "python",
   "nbconvert_exporter": "python",
   "pygments_lexer": "ipython3",
   "version": "3.8.6"
  }
 },
 "nbformat": 4,
 "nbformat_minor": 4
}
